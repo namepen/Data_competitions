{
 "cells": [
  {
   "cell_type": "markdown",
   "metadata": {},
   "source": [
    "# 2019 DSB EDA : 'World' and 'Title' sequence"
   ]
  },
  {
   "cell_type": "markdown",
   "metadata": {},
   "source": [
    "![Whole World](https://user-images.githubusercontent.com/30274701/68391745-9770aa00-01ab-11ea-87eb-e8fba91917d2.JPG)"
   ]
  },
  {
   "cell_type": "markdown",
   "metadata": {},
   "source": [
    "__PBS KIDS Measure Up! App__ have four world(`TREETOPCITY`, `CRYSTALCAVES`, `MAGMAPEAK`, `None`) and __five `Assessment`__. Each world have many titles(courses) and __the APP__ suggest course's procedure.\n",
    "\n",
    "In this kernel, find the title's sequence(order)."
   ]
  },
  {
   "cell_type": "markdown",
   "metadata": {},
   "source": [
    "![](https://user-images.githubusercontent.com/30274701/68392259-bfacd880-01ac-11ea-9de5-102f85865019.jpg)"
   ]
  },
  {
   "cell_type": "code",
   "execution_count": 1,
   "metadata": {
    "_cell_guid": "b1076dfc-b9ad-4769-8c92-a6c4dae69d19",
    "_kg_hide-input": true,
    "_uuid": "8f2839f25d086af736a60e9eeb907d3b93b6e0e5"
   },
   "outputs": [
    {
     "name": "stdout",
     "output_type": "stream",
     "text": [
      "/kaggle/input/data-science-bowl-2019/test.csv\n",
      "/kaggle/input/data-science-bowl-2019/specs.csv\n",
      "/kaggle/input/data-science-bowl-2019/train.csv\n",
      "/kaggle/input/data-science-bowl-2019/train_labels.csv\n",
      "/kaggle/input/data-science-bowl-2019/sample_submission.csv\n"
     ]
    }
   ],
   "source": [
    "import numpy as np # linear algebra\n",
    "import pandas as pd # data processing, CSV file I/O (e.g. pd.read_csv)\n",
    "\n",
    "import matplotlib.pyplot as plt\n",
    "import seaborn as sns\n",
    "import operator\n",
    "\n",
    "import os\n",
    "for dirname, _, filenames in os.walk('/kaggle/input'):\n",
    "    for filename in filenames:\n",
    "        print(os.path.join(dirname, filename))"
   ]
  },
  {
   "cell_type": "code",
   "execution_count": 2,
   "metadata": {
    "_cell_guid": "79c7e3d0-c299-4dcb-8224-4455121ee9b0",
    "_kg_hide-input": true,
    "_uuid": "d629ff2d2480ee46fbb7e2d37f6b5fab8052498a"
   },
   "outputs": [
    {
     "name": "stdout",
     "output_type": "stream",
     "text": [
      "CPU times: user 1min 13s, sys: 16.6 s, total: 1min 30s\n",
      "Wall time: 1min 30s\n"
     ]
    }
   ],
   "source": [
    "%%time\n",
    "# Read in the data CSV files\n",
    "train = pd.read_csv('../input/data-science-bowl-2019/train.csv')\n",
    "train_labels = pd.read_csv('../input/data-science-bowl-2019/train_labels.csv')\n",
    "test = pd.read_csv('../input/data-science-bowl-2019/test.csv')\n",
    "specs = pd.read_csv('../input/data-science-bowl-2019/specs.csv')\n",
    "ss = pd.read_csv('../input/data-science-bowl-2019/sample_submission.csv')"
   ]
  },
  {
   "cell_type": "markdown",
   "metadata": {},
   "source": [
    "If we regard `None` world is just intro World, main world is three. In this game, we can find specific `Assessment` is in one world. \n",
    "\n",
    "* Mushroom Sorter -> TREETOPCITY\n",
    "* Bird Measurer -> TREETOPCITY\n",
    "* Cart Balancer -> CRYSTALCAVES\n",
    "* Chest Sorter -> CRYSTALCAVES\n",
    "* Cauldron Filler -> MAGMAPEAK\n",
    "\n",
    "In test, we have to predict only last `Assesment`, so it's important specific world's procedure."
   ]
  },
  {
   "cell_type": "code",
   "execution_count": 3,
   "metadata": {},
   "outputs": [],
   "source": [
    "assess_list = ['Bird Measurer', 'Cart Balancer', 'Cauldron Filler', 'Chest Sorter', 'Mushroom Sorter']\n",
    "world_list = ['MAGMAPEAK', 'TREETOPCITY', 'CRYSTALCAVES']"
   ]
  },
  {
   "cell_type": "code",
   "execution_count": 4,
   "metadata": {
    "_kg_hide-input": true
   },
   "outputs": [
    {
     "name": "stdout",
     "output_type": "stream",
     "text": [
      "Bird Measurer Assessment in ['TREETOPCITY'] World\n",
      "Cart Balancer Assessment in ['CRYSTALCAVES'] World\n",
      "Cauldron Filler Assessment in ['MAGMAPEAK'] World\n",
      "Chest Sorter Assessment in ['CRYSTALCAVES'] World\n",
      "Mushroom Sorter Assessment in ['TREETOPCITY'] World\n"
     ]
    }
   ],
   "source": [
    "for a in assess_list:\n",
    "    world = train.loc[train['title'].str.contains(a), 'world'].unique()\n",
    "    print('{} Assessment in {} World'.format(a, world))"
   ]
  },
  {
   "cell_type": "markdown",
   "metadata": {},
   "source": [
    "In the game, each world have several course. My main idea is __most players play the game in order.__\n",
    "\n",
    "So I find the path that many users played."
   ]
  },
  {
   "cell_type": "code",
   "execution_count": 5,
   "metadata": {
    "_kg_hide-input": true
   },
   "outputs": [
    {
     "name": "stdout",
     "output_type": "stream",
     "text": [
      "Find_course functions\n"
     ]
    }
   ],
   "source": [
    "print('Find_course functions')\n",
    "def world_in_label(df, world):\n",
    "    if world == 'MAGMAPEAK':\n",
    "        df = df.loc[df['title'].str.contains('Cauldron Filler')]\n",
    "    elif world == 'TREETOPCITY':\n",
    "        df = df.loc[(df['title'].str.contains('Bird Measurer')) | (df['title'].str.contains('Mushroom Sorter'))]\n",
    "    elif world == 'CRYSTALCAVES':\n",
    "        df = df.loc[(df['title'].str.contains('Cauldron Filler')) | (df['title'].str.contains('Chest Sorter'))]\n",
    "    \n",
    "    return df['installation_id'].unique()\n",
    "\n",
    "def find_course(world):\n",
    "    label_ids = world_in_label(train_labels, world)\n",
    "    world_df = train.query('world==\"{}\"'.format(world))[['installation_id', 'world', 'title']]\n",
    "    world_df = world_df.loc[world_df['installation_id'].isin(label_ids)]\n",
    "    ids = world_df['installation_id'].unique()\n",
    "    num_course = world_df['title'].nunique()\n",
    "    \n",
    "    course_d = dict()\n",
    "    \n",
    "    print('{} ids'.format(len(ids)))\n",
    "    for i in ids:\n",
    "        if i not in label_ids:\n",
    "            continue\n",
    "        else:\n",
    "            id_df = world_df.query('installation_id==\"{}\"'.format(i))\n",
    "            if id_df['title'].nunique() == num_course:\n",
    "                try:\n",
    "                    course_d[str(id_df['title'].unique())] += 1\n",
    "                except:\n",
    "                    course_d[str(id_df['title'].unique())] = 1    \n",
    "    return course_d"
   ]
  },
  {
   "cell_type": "code",
   "execution_count": 6,
   "metadata": {
    "_kg_hide-output": true
   },
   "outputs": [
    {
     "name": "stdout",
     "output_type": "stream",
     "text": [
      "World : MAGMAPEAK\n",
      "1985 ids\n",
      "[(\"['Magma Peak - Level 1' 'Sandcastle Builder (Activity)' 'Slop Problem'\\n 'Scrub-A-Dub' 'Watering Hole (Activity)' 'Magma Peak - Level 2'\\n 'Dino Drink' 'Bubble Bath' 'Bottle Filler (Activity)' 'Dino Dive'\\n 'Cauldron Filler (Assessment)']\", 252), (\"['Magma Peak - Level 1' 'Sandcastle Builder (Activity)' 'Scrub-A-Dub'\\n 'Watering Hole (Activity)' 'Magma Peak - Level 2' 'Dino Drink'\\n 'Bubble Bath' 'Bottle Filler (Activity)' 'Dino Dive'\\n 'Cauldron Filler (Assessment)' 'Slop Problem']\", 10), (\"['Magma Peak - Level 1' 'Magma Peak - Level 2'\\n 'Sandcastle Builder (Activity)' 'Slop Problem' 'Scrub-A-Dub'\\n 'Watering Hole (Activity)' 'Dino Drink' 'Bubble Bath'\\n 'Bottle Filler (Activity)' 'Dino Dive' 'Cauldron Filler (Assessment)']\", 8), (\"['Magma Peak - Level 1' 'Sandcastle Builder (Activity)' 'Slop Problem'\\n 'Scrub-A-Dub' 'Magma Peak - Level 2' 'Watering Hole (Activity)'\\n 'Dino Drink' 'Bubble Bath' 'Bottle Filler (Activity)' 'Dino Dive'\\n 'Cauldron Filler (Assessment)']\", 6), (\"['Magma Peak - Level 1' 'Sandcastle Builder (Activity)' 'Slop Problem'\\n 'Scrub-A-Dub' 'Watering Hole (Activity)' 'Magma Peak - Level 2'\\n 'Dino Drink' 'Bottle Filler (Activity)' 'Dino Dive'\\n 'Cauldron Filler (Assessment)' 'Bubble Bath']\", 6)]\n",
      "====================================================================================================\n",
      "World : TREETOPCITY\n",
      "2301 ids\n",
      "[('[\\'Tree Top City - Level 1\\' \\'Ordering Spheres\\' \\'All Star Sorting\\'\\n \\'Costume Box\\' \\'Fireworks (Activity)\\' \\'12 Monkeys\\'\\n \\'Tree Top City - Level 2\\' \\'Flower Waterer (Activity)\\' \"Pirate\\'s Tale\"\\n \\'Mushroom Sorter (Assessment)\\' \\'Air Show\\' \\'Treasure Map\\'\\n \\'Tree Top City - Level 3\\' \\'Crystals Rule\\' \\'Rulers\\'\\n \\'Bug Measurer (Activity)\\' \\'Bird Measurer (Assessment)\\']', 168), ('[\\'Ordering Spheres\\' \\'All Star Sorting\\' \\'Costume Box\\'\\n \\'Fireworks (Activity)\\' \\'12 Monkeys\\' \\'Tree Top City - Level 2\\'\\n \\'Flower Waterer (Activity)\\' \"Pirate\\'s Tale\"\\n \\'Mushroom Sorter (Assessment)\\' \\'Air Show\\' \\'Treasure Map\\'\\n \\'Tree Top City - Level 3\\' \\'Crystals Rule\\' \\'Rulers\\'\\n \\'Bug Measurer (Activity)\\' \\'Bird Measurer (Assessment)\\'\\n \\'Tree Top City - Level 1\\']', 3), ('[\\'Tree Top City - Level 1\\' \\'Ordering Spheres\\' \\'All Star Sorting\\'\\n \\'Fireworks (Activity)\\' \\'12 Monkeys\\' \\'Tree Top City - Level 2\\'\\n \\'Flower Waterer (Activity)\\' \"Pirate\\'s Tale\"\\n \\'Mushroom Sorter (Assessment)\\' \\'Air Show\\' \\'Treasure Map\\'\\n \\'Tree Top City - Level 3\\' \\'Crystals Rule\\' \\'Rulers\\'\\n \\'Bug Measurer (Activity)\\' \\'Bird Measurer (Assessment)\\' \\'Costume Box\\']', 3), ('[\\'Tree Top City - Level 1\\' \\'Tree Top City - Level 2\\'\\n \\'Tree Top City - Level 3\\' \\'Bird Measurer (Assessment)\\' \\'Ordering Spheres\\'\\n \\'All Star Sorting\\' \\'Costume Box\\' \\'Fireworks (Activity)\\' \\'12 Monkeys\\'\\n \\'Flower Waterer (Activity)\\' \"Pirate\\'s Tale\"\\n \\'Mushroom Sorter (Assessment)\\' \\'Air Show\\' \\'Treasure Map\\' \\'Crystals Rule\\'\\n \\'Rulers\\' \\'Bug Measurer (Activity)\\']', 2), ('[\\'Tree Top City - Level 1\\' \\'All Star Sorting\\' \\'Ordering Spheres\\'\\n \\'Costume Box\\' \\'Fireworks (Activity)\\' \\'12 Monkeys\\'\\n \\'Tree Top City - Level 2\\' \\'Flower Waterer (Activity)\\' \"Pirate\\'s Tale\"\\n \\'Mushroom Sorter (Assessment)\\' \\'Air Show\\' \\'Treasure Map\\'\\n \\'Tree Top City - Level 3\\' \\'Crystals Rule\\' \\'Rulers\\'\\n \\'Bug Measurer (Activity)\\' \\'Bird Measurer (Assessment)\\']', 2)]\n",
      "====================================================================================================\n",
      "World : CRYSTALCAVES\n",
      "2385 ids\n",
      "[(\"['Crystal Caves - Level 1' 'Chow Time' 'Balancing Act'\\n 'Chicken Balancer (Activity)' 'Lifting Heavy Things'\\n 'Crystal Caves - Level 2' 'Honey Cake' 'Happy Camel'\\n 'Cart Balancer (Assessment)' 'Leaf Leader' 'Crystal Caves - Level 3'\\n 'Heavy, Heavier, Heaviest' 'Pan Balance' 'Egg Dropper (Activity)'\\n 'Chest Sorter (Assessment)']\", 145), (\"['Crystal Caves - Level 1' 'Chow Time' 'Balancing Act'\\n 'Chicken Balancer (Activity)' 'Lifting Heavy Things'\\n 'Crystal Caves - Level 2' 'Honey Cake' 'Happy Camel'\\n 'Cart Balancer (Assessment)' 'Leaf Leader' 'Crystal Caves - Level 3'\\n 'Pan Balance' 'Egg Dropper (Activity)' 'Chest Sorter (Assessment)'\\n 'Heavy, Heavier, Heaviest']\", 6), (\"['Crystal Caves - Level 1' 'Crystal Caves - Level 2'\\n 'Crystal Caves - Level 3' 'Chow Time' 'Balancing Act'\\n 'Chicken Balancer (Activity)' 'Lifting Heavy Things' 'Honey Cake'\\n 'Happy Camel' 'Cart Balancer (Assessment)' 'Leaf Leader'\\n 'Heavy, Heavier, Heaviest' 'Pan Balance' 'Egg Dropper (Activity)'\\n 'Chest Sorter (Assessment)']\", 5), (\"['Chow Time' 'Balancing Act' 'Chicken Balancer (Activity)'\\n 'Lifting Heavy Things' 'Crystal Caves - Level 2' 'Honey Cake'\\n 'Happy Camel' 'Cart Balancer (Assessment)' 'Leaf Leader'\\n 'Crystal Caves - Level 3' 'Heavy, Heavier, Heaviest' 'Pan Balance'\\n 'Egg Dropper (Activity)' 'Chest Sorter (Assessment)'\\n 'Crystal Caves - Level 1']\", 3), (\"['Crystal Caves - Level 1' 'Chow Time' 'Balancing Act'\\n 'Chicken Balancer (Activity)' 'Lifting Heavy Things'\\n 'Crystal Caves - Level 2' 'Honey Cake' 'Happy Camel'\\n 'Cart Balancer (Assessment)' 'Leaf Leader' 'Crystal Caves - Level 3'\\n 'Heavy, Heavier, Heaviest' 'Egg Dropper (Activity)'\\n 'Chest Sorter (Assessment)' 'Pan Balance']\", 3)]\n",
      "====================================================================================================\n"
     ]
    }
   ],
   "source": [
    "w_dict = dict()\n",
    "for w in world_list:\n",
    "    print('World : {}'.format(w))\n",
    "    w_dict[w] = find_course(w)\n",
    "    print(sorted(w_dict[w].items(), key=operator.itemgetter(1), reverse=True)[:5])\n",
    "    print('='*100)"
   ]
  },
  {
   "cell_type": "markdown",
   "metadata": {},
   "source": [
    "In plot, most users play the APP in particular path."
   ]
  },
  {
   "cell_type": "code",
   "execution_count": 7,
   "metadata": {
    "_kg_hide-input": true
   },
   "outputs": [
    {
     "data": {
      "image/png": "[encoded data removed]",
      "text/plain": [
       "<Figure size 1296x432 with 3 Axes>"
      ]
     },
     "metadata": {
      "needs_background": "light"
     },
     "output_type": "display_data"
    }
   ],
   "source": [
    "fig, ax = plt.subplots(1,3, figsize=(18,6))\n",
    "for num, w in enumerate(world_list):\n",
    "#with sns.axes_style('Set1'):\n",
    "    plot = pd.DataFrame(sorted(w_dict[w].items(), key=operator.itemgetter(1), reverse=True)[:5]).plot(kind='bar', cmap='summer', ax=ax[num])\n",
    "    plot.set_title(w, fontsize=20)\n",
    "    plot.patches[0].set_color('orange')\n",
    "    plot.set_xticklabels(['Path {}'.format(i+1)  for i in range(5)], rotation=45)\n",
    "    plot.legend().remove()"
   ]
  },
  {
   "cell_type": "markdown",
   "metadata": {},
   "source": [
    "Most user's path is below."
   ]
  },
  {
   "cell_type": "markdown",
   "metadata": {},
   "source": [
    "### CRYSTALCAVES(15)\n",
    "\n",
    "* 'Crystal Caves - Level 1' \n",
    "* 'Chow Time' \n",
    "* 'Balancing Act'\n",
    "* 'Chicken Balancer (Activity)' \n",
    "* 'Lifting Heavy Things' \n",
    "* 'Crystal Caves - Level 2' \n",
    "* 'Honey Cake' \n",
    "* 'Happy Camel'\n",
    "* 'Cart Balancer (Assessment)' \n",
    "* 'Leaf Leader' \n",
    "* 'Crystal Caves - Level 3'\n",
    "* 'Heavy, Heavier, Heaviest' \n",
    "* 'Pan Balance' \n",
    "* 'Egg Dropper (Activity)'\n",
    "* 'Chest Sorter (Assessment)'\n",
    "\n",
    "\n",
    "### TREETOPCITY(17)\n",
    "\n",
    "* 'Tree Top City - Level 1' \n",
    "* 'Ordering Spheres' \n",
    "* 'All Star Sorting'\n",
    "* 'Costume Box'\n",
    "* 'Fireworks (Activity)'\n",
    "* '12 Monkeys'\n",
    "* 'Tree Top City - Level 2' \n",
    "* 'Flower Waterer (Activity)' \n",
    "* 'Pirate's Tale\n",
    "* 'Mushroom Sorter (Assessment)'\n",
    "* 'Air Show'\n",
    "* 'Treasure Map'\n",
    "* 'Tree Top City - Level 3'\n",
    "* 'Crystals Rule'\n",
    "* 'Rulers'\n",
    "* 'Bug Measurer (Activity)' \n",
    "* 'Bird Measurer (Assessment)'\n",
    "\n",
    "\n",
    "### MAGMA PEAK(11)\n",
    "\n",
    "* 'Magma Peak - Level 1'\n",
    "* 'Sandcastle Builder (Activity)' \n",
    "* 'Slop Problem' \n",
    "* 'Scrub-A-Dub' \n",
    "* 'Watering Hole (Activity)'\n",
    "* 'Magma Peak - Level 2'\n",
    "* 'Dino Drink'\n",
    "* 'Bubble Bath' \n",
    "* 'Bottle Filler (Activity)'\n",
    "* 'Dino Dive'\n",
    "* 'Cauldron Filler (Assessment)'"
   ]
  },
  {
   "cell_type": "markdown",
   "metadata": {},
   "source": [
    "Here, __courses in list__ is not match __above picture courses .__\n",
    "\n",
    "For example, 'MAGMA PEAK' world have 9 courses in the picture. But train data have 11 unique courses.<br>\n",
    "\n",
    "\n",
    "I think `0000 - Level 0` is not in picture because its media type is just `clip`. It seem like intro clip.<br>\n",
    "In this case, 'Magma Peak - Level 1' and 'Magma Peak - Level 2' is `clip`."
   ]
  },
  {
   "cell_type": "code",
   "execution_count": 8,
   "metadata": {},
   "outputs": [
    {
     "name": "stdout",
     "output_type": "stream",
     "text": [
      "\"Magma Peak - Level 1\" type is ['Clip']\n"
     ]
    },
    {
     "data": {
      "text/html": [
       "<div>\n",
       "<style scoped>\n",
       "    .dataframe tbody tr th:only-of-type {\n",
       "        vertical-align: middle;\n",
       "    }\n",
       "\n",
       "    .dataframe tbody tr th {\n",
       "        vertical-align: top;\n",
       "    }\n",
       "\n",
       "    .dataframe thead th {\n",
       "        text-align: right;\n",
       "    }\n",
       "</style>\n",
       "<table border=\"1\" class=\"dataframe\">\n",
       "  <thead>\n",
       "    <tr style=\"text-align: right;\">\n",
       "      <th></th>\n",
       "      <th>event_id</th>\n",
       "      <th>game_session</th>\n",
       "      <th>timestamp</th>\n",
       "      <th>event_data</th>\n",
       "      <th>installation_id</th>\n",
       "      <th>event_count</th>\n",
       "      <th>event_code</th>\n",
       "      <th>game_time</th>\n",
       "      <th>title</th>\n",
       "      <th>type</th>\n",
       "      <th>world</th>\n",
       "    </tr>\n",
       "  </thead>\n",
       "  <tbody>\n",
       "    <tr>\n",
       "      <th>17552</th>\n",
       "      <td>27253bdc</td>\n",
       "      <td>0fa6daa06424bb2a</td>\n",
       "      <td>2019-08-07T20:23:20.615Z</td>\n",
       "      <td>{\"event_code\": 2000, \"event_count\": 1}</td>\n",
       "      <td>002db7e3</td>\n",
       "      <td>1</td>\n",
       "      <td>2000</td>\n",
       "      <td>0</td>\n",
       "      <td>Magma Peak - Level 1</td>\n",
       "      <td>Clip</td>\n",
       "      <td>MAGMAPEAK</td>\n",
       "    </tr>\n",
       "    <tr>\n",
       "      <th>20151</th>\n",
       "      <td>27253bdc</td>\n",
       "      <td>0e30789901850429</td>\n",
       "      <td>2019-08-08T21:37:53.381Z</td>\n",
       "      <td>{\"event_code\": 2000, \"event_count\": 1}</td>\n",
       "      <td>002db7e3</td>\n",
       "      <td>1</td>\n",
       "      <td>2000</td>\n",
       "      <td>0</td>\n",
       "      <td>Magma Peak - Level 1</td>\n",
       "      <td>Clip</td>\n",
       "      <td>MAGMAPEAK</td>\n",
       "    </tr>\n",
       "    <tr>\n",
       "      <th>20705</th>\n",
       "      <td>27253bdc</td>\n",
       "      <td>87e3812690efda79</td>\n",
       "      <td>2019-08-09T01:58:17.835Z</td>\n",
       "      <td>{\"event_code\": 2000, \"event_count\": 1}</td>\n",
       "      <td>002db7e3</td>\n",
       "      <td>1</td>\n",
       "      <td>2000</td>\n",
       "      <td>0</td>\n",
       "      <td>Magma Peak - Level 1</td>\n",
       "      <td>Clip</td>\n",
       "      <td>MAGMAPEAK</td>\n",
       "    </tr>\n",
       "    <tr>\n",
       "      <th>20741</th>\n",
       "      <td>27253bdc</td>\n",
       "      <td>ec56bb88ac936d91</td>\n",
       "      <td>2019-08-12T19:12:49.401Z</td>\n",
       "      <td>{\"event_code\": 2000, \"event_count\": 1}</td>\n",
       "      <td>002db7e3</td>\n",
       "      <td>1</td>\n",
       "      <td>2000</td>\n",
       "      <td>0</td>\n",
       "      <td>Magma Peak - Level 1</td>\n",
       "      <td>Clip</td>\n",
       "      <td>MAGMAPEAK</td>\n",
       "    </tr>\n",
       "  </tbody>\n",
       "</table>\n",
       "</div>"
      ],
      "text/plain": [
       "       event_id      game_session                 timestamp  \\\n",
       "17552  27253bdc  0fa6daa06424bb2a  2019-08-07T20:23:20.615Z   \n",
       "20151  27253bdc  0e30789901850429  2019-08-08T21:37:53.381Z   \n",
       "20705  27253bdc  87e3812690efda79  2019-08-09T01:58:17.835Z   \n",
       "20741  27253bdc  ec56bb88ac936d91  2019-08-12T19:12:49.401Z   \n",
       "\n",
       "                                   event_data installation_id  event_count  \\\n",
       "17552  {\"event_code\": 2000, \"event_count\": 1}        002db7e3            1   \n",
       "20151  {\"event_code\": 2000, \"event_count\": 1}        002db7e3            1   \n",
       "20705  {\"event_code\": 2000, \"event_count\": 1}        002db7e3            1   \n",
       "20741  {\"event_code\": 2000, \"event_count\": 1}        002db7e3            1   \n",
       "\n",
       "       event_code  game_time                 title  type      world  \n",
       "17552        2000          0  Magma Peak - Level 1  Clip  MAGMAPEAK  \n",
       "20151        2000          0  Magma Peak - Level 1  Clip  MAGMAPEAK  \n",
       "20705        2000          0  Magma Peak - Level 1  Clip  MAGMAPEAK  \n",
       "20741        2000          0  Magma Peak - Level 1  Clip  MAGMAPEAK  "
      ]
     },
     "metadata": {},
     "output_type": "display_data"
    },
    {
     "name": "stdout",
     "output_type": "stream",
     "text": [
      "\"Magma Peak - Level 2\" type is ['Clip']\n"
     ]
    },
    {
     "data": {
      "text/html": [
       "<div>\n",
       "<style scoped>\n",
       "    .dataframe tbody tr th:only-of-type {\n",
       "        vertical-align: middle;\n",
       "    }\n",
       "\n",
       "    .dataframe tbody tr th {\n",
       "        vertical-align: top;\n",
       "    }\n",
       "\n",
       "    .dataframe thead th {\n",
       "        text-align: right;\n",
       "    }\n",
       "</style>\n",
       "<table border=\"1\" class=\"dataframe\">\n",
       "  <thead>\n",
       "    <tr style=\"text-align: right;\">\n",
       "      <th></th>\n",
       "      <th>event_id</th>\n",
       "      <th>game_session</th>\n",
       "      <th>timestamp</th>\n",
       "      <th>event_data</th>\n",
       "      <th>installation_id</th>\n",
       "      <th>event_count</th>\n",
       "      <th>event_code</th>\n",
       "      <th>game_time</th>\n",
       "      <th>title</th>\n",
       "      <th>type</th>\n",
       "      <th>world</th>\n",
       "    </tr>\n",
       "  </thead>\n",
       "  <tbody>\n",
       "    <tr>\n",
       "      <th>18937</th>\n",
       "      <td>27253bdc</td>\n",
       "      <td>e7cb90281e6a4810</td>\n",
       "      <td>2019-08-07T20:58:21.365Z</td>\n",
       "      <td>{\"event_code\": 2000, \"event_count\": 1}</td>\n",
       "      <td>002db7e3</td>\n",
       "      <td>1</td>\n",
       "      <td>2000</td>\n",
       "      <td>0</td>\n",
       "      <td>Magma Peak - Level 2</td>\n",
       "      <td>Clip</td>\n",
       "      <td>MAGMAPEAK</td>\n",
       "    </tr>\n",
       "    <tr>\n",
       "      <th>19678</th>\n",
       "      <td>27253bdc</td>\n",
       "      <td>c5035af708512c1c</td>\n",
       "      <td>2019-08-07T23:48:16.194Z</td>\n",
       "      <td>{\"event_code\": 2000, \"event_count\": 1}</td>\n",
       "      <td>002db7e3</td>\n",
       "      <td>1</td>\n",
       "      <td>2000</td>\n",
       "      <td>0</td>\n",
       "      <td>Magma Peak - Level 2</td>\n",
       "      <td>Clip</td>\n",
       "      <td>MAGMAPEAK</td>\n",
       "    </tr>\n",
       "    <tr>\n",
       "      <th>20152</th>\n",
       "      <td>27253bdc</td>\n",
       "      <td>c57ab5643f9b73e5</td>\n",
       "      <td>2019-08-08T21:38:20.174Z</td>\n",
       "      <td>{\"event_code\": 2000, \"event_count\": 1}</td>\n",
       "      <td>002db7e3</td>\n",
       "      <td>1</td>\n",
       "      <td>2000</td>\n",
       "      <td>0</td>\n",
       "      <td>Magma Peak - Level 2</td>\n",
       "      <td>Clip</td>\n",
       "      <td>MAGMAPEAK</td>\n",
       "    </tr>\n",
       "  </tbody>\n",
       "</table>\n",
       "</div>"
      ],
      "text/plain": [
       "       event_id      game_session                 timestamp  \\\n",
       "18937  27253bdc  e7cb90281e6a4810  2019-08-07T20:58:21.365Z   \n",
       "19678  27253bdc  c5035af708512c1c  2019-08-07T23:48:16.194Z   \n",
       "20152  27253bdc  c57ab5643f9b73e5  2019-08-08T21:38:20.174Z   \n",
       "\n",
       "                                   event_data installation_id  event_count  \\\n",
       "18937  {\"event_code\": 2000, \"event_count\": 1}        002db7e3            1   \n",
       "19678  {\"event_code\": 2000, \"event_count\": 1}        002db7e3            1   \n",
       "20152  {\"event_code\": 2000, \"event_count\": 1}        002db7e3            1   \n",
       "\n",
       "       event_code  game_time                 title  type      world  \n",
       "18937        2000          0  Magma Peak - Level 2  Clip  MAGMAPEAK  \n",
       "19678        2000          0  Magma Peak - Level 2  Clip  MAGMAPEAK  \n",
       "20152        2000          0  Magma Peak - Level 2  Clip  MAGMAPEAK  "
      ]
     },
     "metadata": {},
     "output_type": "display_data"
    }
   ],
   "source": [
    "temp = train.query('installation_id==\"002db7e3\"')\n",
    "temp = temp.loc[temp['world'] == 'MAGMAPEAK']\n",
    "print('\"Magma Peak - Level 1\" type is {}'.format(train.loc[train['title'].str.contains('Magma Peak - Level 1')]['type'].unique()))\n",
    "display(temp.loc[temp['title'].str.contains('Level 1')])\n",
    "print('\"Magma Peak - Level 2\" type is {}'.format(train.loc[train['title'].str.contains('Magma Peak - Level 2')]['type'].unique()))\n",
    "display(temp.loc[temp['title'].str.contains('Level 2')])"
   ]
  },
  {
   "cell_type": "code",
   "execution_count": 9,
   "metadata": {},
   "outputs": [],
   "source": [
    "#Save dict\n",
    "pd.DataFrame(w_dict).to_csv('course_dict.csv')"
   ]
  },
  {
   "cell_type": "markdown",
   "metadata": {},
   "source": [
    "## Bonus.\n",
    "\n",
    "when extract specific data in Dataframe, `query` is faster than `.loc`."
   ]
  },
  {
   "cell_type": "code",
   "execution_count": 10,
   "metadata": {},
   "outputs": [
    {
     "name": "stdout",
     "output_type": "stream",
     "text": [
      "CPU times: user 1.56 s, sys: 8 ms, total: 1.56 s\n",
      "Wall time: 1.55 s\n"
     ]
    },
    {
     "data": {
      "text/plain": [
       "array(['NONE', 'MAGMAPEAK', 'TREETOPCITY'], dtype=object)"
      ]
     },
     "execution_count": 10,
     "metadata": {},
     "output_type": "execute_result"
    }
   ],
   "source": [
    "%%time\n",
    "train.loc[train['installation_id'] == '0006a69f']['world'].unique()"
   ]
  },
  {
   "cell_type": "code",
   "execution_count": 11,
   "metadata": {},
   "outputs": [
    {
     "name": "stdout",
     "output_type": "stream",
     "text": [
      "CPU times: user 488 ms, sys: 108 ms, total: 596 ms\n",
      "Wall time: 498 ms\n"
     ]
    },
    {
     "data": {
      "text/plain": [
       "array(['NONE', 'MAGMAPEAK', 'TREETOPCITY'], dtype=object)"
      ]
     },
     "execution_count": 11,
     "metadata": {},
     "output_type": "execute_result"
    }
   ],
   "source": [
    "%%time\n",
    "train.query('installation_id==\"0006a69f\"')['world'].unique()"
   ]
  }
 ],
 "metadata": {
  "kernelspec": {
   "display_name": "Python 3",
   "language": "python",
   "name": "python3"
  },
  "language_info": {
   "codemirror_mode": {
    "name": "ipython",
    "version": 3
   },
   "file_extension": ".py",
   "mimetype": "text/x-python",
   "name": "python",
   "nbconvert_exporter": "python",
   "pygments_lexer": "ipython3",
   "version": "3.6.6"
  }
 },
 "nbformat": 4,
 "nbformat_minor": 1
}
